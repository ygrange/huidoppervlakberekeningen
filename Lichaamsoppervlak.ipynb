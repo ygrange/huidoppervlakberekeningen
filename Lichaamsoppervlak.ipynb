{
 "cells": [
  {
   "cell_type": "code",
   "execution_count": null,
   "metadata": {
    "collapsed": false
   },
   "outputs": [
    {
     "data": {
      "text/html": [
       "<script>\n",
       "    // AUTORUN ALL CELLS ON NOTEBOOK-LOAD!\n",
       "    require(\n",
       "        ['base/js/namespace', 'jquery'], \n",
       "        function(jupyter, $) {\n",
       "            $(jupyter.events).on(\"kernel_ready.Kernel\", function () {\n",
       "                console.log(\"Auto-running all cells-below...\");\n",
       "                jupyter.actions.call('jupyter-notebook:run-all-cells-below');\n",
       "                jupyter.actions.call('jupyter-notebook:save-notebook');\n",
       "            });\n",
       "        }\n",
       "    );\n",
       "</script>"
      ],
      "text/plain": [
       "<IPython.core.display.HTML object>"
      ]
     },
     "metadata": {},
     "output_type": "display_data"
    }
   ],
   "source": [
    "%%html\n",
    "<script>\n",
    "    // AUTORUN ALL CELLS ON NOTEBOOK-LOAD!\n",
    "    require(\n",
    "        ['base/js/namespace', 'jquery'], \n",
    "        function(jupyter, $) {\n",
    "            $(jupyter.events).on(\"kernel_ready.Kernel\", function () {\n",
    "                console.log(\"Auto-running all cells-below...\");\n",
    "                jupyter.actions.call('jupyter-notebook:run-all-cells-below');\n",
    "                jupyter.actions.call('jupyter-notebook:save-notebook');\n",
    "            });\n",
    "        }\n",
    "    );\n",
    "</script>"
   ]
  },
  {
   "cell_type": "code",
   "execution_count": null,
   "metadata": {
    "collapsed": false
   },
   "outputs": [],
   "source": [
    "from math import sqrt\n",
    "from math import log as ln\n",
    "import numpy as np\n",
    "import pylab as pl\n",
    "from matplotlib.widgets import Slider\n",
    "%matplotlib inline"
   ]
  },
  {
   "cell_type": "markdown",
   "metadata": {},
   "source": [
    "Vergelijking vam de verschillende formules voor het berekenen van het huidoppervlak. Eerdt gaan we vragen de waarden in te vullen waarna alles wordt uitgerekend."
   ]
  },
  {
   "cell_type": "code",
   "execution_count": null,
   "metadata": {
    "collapsed": false
   },
   "outputs": [],
   "source": [
    "lengte = float(input(\"Vul lengte in centimeter in: \").replace(\",\",\".\"))\n",
    "gewicht = float(input(\"Vul gewicht in kg in: \").replace(\",\",\".\"))\n",
    "if lengte < 5:\n",
    "    print (\"\\nWaarschuwing: lengte van %s cm lijkt me te kort voor een mens. \"\\\n",
    "    \"Ik neem aan dat de lengte in meters is ingevuld en ga verder rekenen met %s cm. \"\\\n",
    "    %(lengte, lengte*100.))\n",
    "    lengte *= 100."
   ]
  },
  {
   "cell_type": "markdown",
   "metadata": {},
   "source": [
    "In de volgende cellen worden de formules gedefinieerd waarmee we verderop gaan rekenen"
   ]
  },
  {
   "cell_type": "code",
   "execution_count": null,
   "metadata": {
    "collapsed": true
   },
   "outputs": [],
   "source": [
    "def Mosteller(L, M):\n",
    "    LM = L * M\n",
    "    LM = LM / 3600.\n",
    "    return sqrt(LM)"
   ]
  },
  {
   "cell_type": "code",
   "execution_count": null,
   "metadata": {
    "collapsed": true
   },
   "outputs": [],
   "source": [
    "def machtsformule(A, B, C, L, M):\n",
    "    LM = pow(L,B) * pow(M,C)\n",
    "    return A * LM"
   ]
  },
  {
   "cell_type": "code",
   "execution_count": null,
   "metadata": {
    "collapsed": true
   },
   "outputs": [],
   "source": [
    "def GehanGeorge(L, M):\n",
    "    return machtsformule(A=0.0235, B=0.42246, C=0.51456,\n",
    "                        L=L, M=M)"
   ]
  },
  {
   "cell_type": "code",
   "execution_count": null,
   "metadata": {
    "collapsed": false
   },
   "outputs": [],
   "source": [
    "def Haycock(L, M):\n",
    "    return machtsformule(A=0.024265, B=0.3964, C=0.5378,\n",
    "                        L=L, M=M)"
   ]
  },
  {
   "cell_type": "code",
   "execution_count": null,
   "metadata": {
    "collapsed": true
   },
   "outputs": [],
   "source": [
    "def Dubois(L, M):\n",
    "    return machtsformule(A=0.007184, B=0.725, C=0.425,\n",
    "                        L=L, M=M)"
   ]
  },
  {
   "cell_type": "code",
   "execution_count": null,
   "metadata": {
    "collapsed": false
   },
   "outputs": [],
   "source": [
    "def Boyd(L, M):\n",
    "    C = 0.6157 - (0.00816474 * ln(M))\n",
    "    return machtsformule(A=0.0332965, B=0.3, C=C,\n",
    "                        L=L, M=M)"
   ]
  },
  {
   "cell_type": "code",
   "execution_count": null,
   "metadata": {
    "collapsed": true
   },
   "outputs": [],
   "source": [
    "def Schlich_vrouw(L, M):\n",
    "    return machtsformule(A=0.0009754382, B=1.08, C=0.46,\n",
    "                        L=L, M=M)"
   ]
  },
  {
   "cell_type": "code",
   "execution_count": null,
   "metadata": {
    "collapsed": true
   },
   "outputs": [],
   "source": [
    "def Schlich_man(L, M):\n",
    "    return machtsformule(A=0.000579479, B=1.24, C=0.38,\n",
    "                        L=L, M=M)"
   ]
  },
  {
   "cell_type": "code",
   "execution_count": null,
   "metadata": {
    "collapsed": true
   },
   "outputs": [],
   "source": [
    "def Fujimoto(L, M):\n",
    "    return machtsformule(A=0.008883, B=0.663, C=0.444,\n",
    "                        L=L, M=M)"
   ]
  },
  {
   "cell_type": "code",
   "execution_count": null,
   "metadata": {
    "collapsed": true
   },
   "outputs": [],
   "source": [
    "def Takahira(L, M):\n",
    "    return machtsformule(A=0.007241, B=0.725, C=0.425,\n",
    "                        L=L, M=M)"
   ]
  },
  {
   "cell_type": "markdown",
   "metadata": {},
   "source": [
    "Hieronder worden alle resultaten onder elkaar gezet. "
   ]
  },
  {
   "cell_type": "code",
   "execution_count": null,
   "metadata": {
    "collapsed": false
   },
   "outputs": [],
   "source": [
    "print (\"{0:<16} {1}\".format(\"Mosteller\", Mosteller(lengte, gewicht)))\n",
    "print (\"{0:<16} {1}\".format(\"Gehan & George\", GehanGeorge(lengte, gewicht)))\n",
    "print (\"{0:<16} {1}\".format(\"Haycock\", Haycock(lengte, gewicht)))\n",
    "print (\"{0:<16} {1}\".format(\"Dubois\", Dubois (lengte, gewicht)))\n",
    "print (\"{0:<16} {1}\".format(\"Boyd\", Boyd(lengte, gewicht)))\n",
    "print (\"{0:<16} {1}\".format(\"Schlich (man):\", Schlich_man(lengte, gewicht)))\n",
    "print (\"{0:<16} {1}\".format(\"Schlich (vrouw)\", Schlich_vrouw(lengte, gewicht)))\n",
    "print (\"{0:<16} {1}\".format(\"Fujimoto\",Fujimoto(lengte, gewicht)))\n",
    "print (\"{0:<16} {1}\".format(\"Takahira\",Takahira(lengte, gewicht)))"
   ]
  },
  {
   "cell_type": "markdown",
   "metadata": {},
   "source": [
    "En nu eens kijken hoe de verschillende modellen zich gedragen als functie van lengte en gewicht, op basis van de eerder ingevulde waarden voor lengte en gewicht."
   ]
  },
  {
   "cell_type": "code",
   "execution_count": null,
   "metadata": {
    "collapsed": false
   },
   "outputs": [],
   "source": [
    "lengtes = np.linspace(160, 210, 50)\n",
    "gewichten = np.linspace(70, 140, 70)"
   ]
  },
  {
   "cell_type": "code",
   "execution_count": null,
   "metadata": {
    "collapsed": false
   },
   "outputs": [],
   "source": [
    "mostvals = [Mosteller(L, gewicht) for L in lengtes]\n",
    "gehgeovals = [GehanGeorge(L, gewicht) for L in lengtes]\n",
    "hayvals = [Haycock(L, gewicht) for L in lengtes]\n",
    "dubvals = [Dubois(L, gewicht) for L in lengtes]\n",
    "boydvals = [Boyd(L, gewicht) for L in lengtes]\n",
    "sch_mvals = [Schlich_man(L, gewicht) for L in lengtes]\n",
    "sch_vvals = [Schlich_vrouw(L, gewicht) for L in lengtes]\n",
    "fujivals = [Fujimoto(L, gewicht) for L in lengtes]\n",
    "takavals = [Takahira(L, gewicht) for L in lengtes]\n",
    "pl.plot(lengtes, mostvals)\n",
    "pl.plot(lengtes, gehgeovals)\n",
    "pl.plot(lengtes, hayvals)\n",
    "pl.plot(lengtes, dubvals)\n",
    "pl.plot(lengtes, boydvals)\n",
    "pl.plot(lengtes, sch_mvals)\n",
    "pl.plot(lengtes, sch_vvals)\n",
    "pl.plot(lengtes, fujivals)\n",
    "pl.plot(lengtes, takavals)\n",
    "pl.xlabel(\"Lengte (cm)\")\n",
    "pl.ylabel(\"Huidoppervlak (cm^2)\")\n",
    "pl.title(\"bij een gewicht van %s kilo\"%gewicht);"
   ]
  },
  {
   "cell_type": "code",
   "execution_count": null,
   "metadata": {
    "collapsed": false
   },
   "outputs": [],
   "source": [
    "mostvals = [Mosteller(lengte, G) for G in gewichten]\n",
    "gehgeovals = [GehanGeorge(lengte, G) for G in gewichten]\n",
    "hayvals = [Haycock(lengte, G) for G in gewichten]\n",
    "dubvals = [Dubois(lengte, G) for G in gewichten]\n",
    "boydvals = [Boyd(lengte, G) for G in gewichten]\n",
    "sch_mvals = [Schlich_man(lengte, G) for G in gewichten]\n",
    "sch_vvals = [Schlich_vrouw(lengte, G) for G in gewichten]\n",
    "fujivals = [Fujimoto(lengte, G) for G in gewichten]\n",
    "takavals = [Takahira(lengte, G) for G in gewichten]\n",
    "pl.plot(gewichten, mostvals)\n",
    "pl.plot(gewichten, gehgeovals)\n",
    "pl.plot(gewichten, hayvals)\n",
    "pl.plot(gewichten, dubvals)\n",
    "pl.plot(gewichten, boydvals)\n",
    "pl.plot(gewichten, sch_mvals)\n",
    "pl.plot(gewichten, sch_vvals)\n",
    "pl.plot(gewichten, fujivals)\n",
    "pl.plot(gewichten, takavals)\n",
    "pl.xlabel(\"Gewicht (kg)\")\n",
    "pl.ylabel(\"Huidoppervlak (cm^2)\")\n",
    "pl.title(\"bij een lengte van %s cm\"%lengte);"
   ]
  },
  {
   "cell_type": "code",
   "execution_count": null,
   "metadata": {
    "collapsed": true
   },
   "outputs": [],
   "source": []
  }
 ],
 "metadata": {
  "kernelspec": {
   "display_name": "Python [conda env:py2]",
   "language": "python",
   "name": "conda-env-py2-py"
  },
  "language_info": {
   "codemirror_mode": {
    "name": "ipython",
    "version": 2
   },
   "file_extension": ".py",
   "mimetype": "text/x-python",
   "name": "python",
   "nbconvert_exporter": "python",
   "pygments_lexer": "ipython2",
   "version": "2.7.10"
  }
 },
 "nbformat": 4,
 "nbformat_minor": 2
}
